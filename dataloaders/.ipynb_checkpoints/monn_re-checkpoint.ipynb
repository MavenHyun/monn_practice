{
 "cells": [
  {
   "cell_type": "code",
   "execution_count": 189,
   "id": "30bf3701-6049-4355-b4c1-0daa0668fdae",
   "metadata": {},
   "outputs": [],
   "source": [
    "import tqdm\n",
    "from collections import defaultdict\n",
    "\n",
    "import numpy as np\n",
    "import pandas as pd\n",
    "\n",
    "import torch\n",
    "from rdkit import Chem\n",
    "import dgl"
   ]
  },
  {
   "cell_type": "code",
   "execution_count": 190,
   "id": "729b34e1-5985-4942-8538-5dd7030436a9",
   "metadata": {},
   "outputs": [],
   "source": [
    "dataset_dir_path = \"/hdd3/dti_databank/preprocessed/dataset_220622\"\n",
    "complex_metadata = \"complex_metadata_pdb_2020_general.csv\"\n",
    "ligand_metadata = \"ligand_metadata_pdb_2020_general.csv\"\n",
    "protein_metadata  = \"protein_metadata_pdb_2020_general.csv\""
   ]
  },
  {
   "cell_type": "markdown",
   "id": "ec5edf28-64df-4242-b1a6-084b22db08d6",
   "metadata": {},
   "source": [
    "---\n",
    "### Raw data load"
   ]
  },
  {
   "cell_type": "code",
   "execution_count": 191,
   "id": "f59ea08d-c3a0-4755-a3f1-654cf9844832",
   "metadata": {},
   "outputs": [],
   "source": [
    "ba_measure = 'KIKD' # IC50, nan\n",
    "\n",
    "comp_meta_df = pd.read_csv(f'{dataset_dir_path}/{complex_metadata}')\n",
    "comp_meta_df = comp_meta_df[comp_meta_df.ba_measure==ba_measure]\n",
    "lig_meta_df = pd.read_csv(f'{dataset_dir_path}/{ligand_metadata}')\n",
    "prot_meta_df = pd.read_csv(f'{dataset_dir_path}/{protein_metadata}')"
   ]
  },
  {
   "cell_type": "markdown",
   "id": "a5b1f097-aefb-4e28-bc18-91372858291e",
   "metadata": {},
   "source": [
    "---\n",
    "### Make dataset for affinity"
   ]
  },
  {
   "cell_type": "code",
   "execution_count": 192,
   "id": "7416e697-c7cb-4125-8c4c-be3bd2e4fbc1",
   "metadata": {},
   "outputs": [
    {
     "data": {
      "text/html": [
       "<div>\n",
       "<style scoped>\n",
       "    .dataframe tbody tr th:only-of-type {\n",
       "        vertical-align: middle;\n",
       "    }\n",
       "\n",
       "    .dataframe tbody tr th {\n",
       "        vertical-align: top;\n",
       "    }\n",
       "\n",
       "    .dataframe thead th {\n",
       "        text-align: right;\n",
       "    }\n",
       "</style>\n",
       "<table border=\"1\" class=\"dataframe\">\n",
       "  <thead>\n",
       "    <tr style=\"text-align: right;\">\n",
       "      <th></th>\n",
       "      <th>ba_value</th>\n",
       "      <th>smiles</th>\n",
       "      <th>fasta</th>\n",
       "    </tr>\n",
       "  </thead>\n",
       "  <tbody>\n",
       "    <tr>\n",
       "      <th>0</th>\n",
       "      <td>0.40</td>\n",
       "      <td>CC(=O)NC(CCC(=O)O)C(=O)O</td>\n",
       "      <td>GFSATRSTVIQLLNNISTKREVEQYLKYFTSVSQQQFAVIKVGGAI...</td>\n",
       "    </tr>\n",
       "    <tr>\n",
       "      <th>1</th>\n",
       "      <td>0.49</td>\n",
       "      <td>CC(=O)N1CCCC(C)C1</td>\n",
       "      <td>MVNPTVFFDIAVDGEPLGRVSFELFADKVPKTAENFRALSTGEKGF...</td>\n",
       "    </tr>\n",
       "    <tr>\n",
       "      <th>2</th>\n",
       "      <td>1.60</td>\n",
       "      <td>CCOC(=O)C(=O)N1CCCCC1</td>\n",
       "      <td>MVNPTVFFDIAVDGEPLGRVSFELFADKVPKTAENFRALSTGEKGF...</td>\n",
       "    </tr>\n",
       "    <tr>\n",
       "      <th>3</th>\n",
       "      <td>3.58</td>\n",
       "      <td>CCCN(Cc1ccc(N)cc1)C(=O)NCC(=O)OCC</td>\n",
       "      <td>MVNPTVFFDIAVDGEPLGRVSFELFADKVPKTAENFRALSTGEKGF...</td>\n",
       "    </tr>\n",
       "    <tr>\n",
       "      <th>4</th>\n",
       "      <td>3.74</td>\n",
       "      <td>CCOC(=O)CNC(=O)N(Cc1ccc(N)cc1)Cc1nnn(C)n1</td>\n",
       "      <td>MVNPTVFFDIAVDGEPLGRVSFELFADKVPKTAENFRALSTGEKGF...</td>\n",
       "    </tr>\n",
       "  </tbody>\n",
       "</table>\n",
       "</div>"
      ],
      "text/plain": [
       "   ba_value                                     smiles  \\\n",
       "0      0.40                   CC(=O)NC(CCC(=O)O)C(=O)O   \n",
       "1      0.49                          CC(=O)N1CCCC(C)C1   \n",
       "2      1.60                      CCOC(=O)C(=O)N1CCCCC1   \n",
       "3      3.58          CCCN(Cc1ccc(N)cc1)C(=O)NCC(=O)OCC   \n",
       "4      3.74  CCOC(=O)CNC(=O)N(Cc1ccc(N)cc1)Cc1nnn(C)n1   \n",
       "\n",
       "                                               fasta  \n",
       "0  GFSATRSTVIQLLNNISTKREVEQYLKYFTSVSQQQFAVIKVGGAI...  \n",
       "1  MVNPTVFFDIAVDGEPLGRVSFELFADKVPKTAENFRALSTGEKGF...  \n",
       "2  MVNPTVFFDIAVDGEPLGRVSFELFADKVPKTAENFRALSTGEKGF...  \n",
       "3  MVNPTVFFDIAVDGEPLGRVSFELFADKVPKTAENFRALSTGEKGF...  \n",
       "4  MVNPTVFFDIAVDGEPLGRVSFELFADKVPKTAENFRALSTGEKGF...  "
      ]
     },
     "execution_count": 192,
     "metadata": {},
     "output_type": "execute_result"
    }
   ],
   "source": [
    "comp_lig_df = pd.merge(left=comp_meta_df, right=lig_meta_df, how='inner', on='ligand_id')\n",
    "comp_lig_prot_df = pd.merge(left=comp_lig_df, right=prot_meta_df, how='inner', on='protein_id')\n",
    "c_p_df = comp_lig_prot_df[['ba_value','smiles','fasta']]\n",
    "c_p_df.head()"
   ]
  },
  {
   "cell_type": "markdown",
   "id": "fbceebbf-a101-4c30-ad54-df2ebda5f7ea",
   "metadata": {},
   "source": [
    "---\n",
    "### 1) Smiles to graph"
   ]
  },
  {
   "cell_type": "code",
   "execution_count": 193,
   "id": "72d87b72-f79c-4ebb-925e-c0d57bcdd038",
   "metadata": {},
   "outputs": [],
   "source": [
    "# node len : 63개\n",
    "# Degree : [0,1,2,3,4,5] - 6개\n",
    "# ExplicitValence : [1,2,3,4,5,6] - 6개\n",
    "# ImplicitValence : [0,1,2,3,4,5] - 6개\n",
    "# Aromatic : [0 or 1] - 1개\n",
    "# 총 length : 82개 ()\n",
    "\n",
    "ELEM_LIST = [\n",
    "    'C', 'N', 'O', 'S', 'F', \n",
    "    'Si', 'P', 'Cl', 'Br', 'Mg', \n",
    "    'Na', 'Ca', 'Fe', 'As', 'Al', \n",
    "    'I', 'B', 'V', 'K', 'Tl', \n",
    "    'Yb', 'Sb', 'Sn', 'Ag', 'Pd', \n",
    "    'Co', 'Se', 'Ti', 'Zn', 'H', \n",
    "    'Li', 'Ge', 'Cu', 'Au', 'Ni', \n",
    "    'Cd', 'In', 'Mn', 'Zr', 'Cr', \n",
    "    'Pt', 'Hg', 'Pb', 'W', 'Ru', \n",
    "    'Nb', 'Re', 'Te', 'Rh', 'Tc', \n",
    "    'Ba', 'Bi', 'Hf', 'Mo', 'U', \n",
    "    'Sm', 'Os', 'Ir', 'Ce', 'Gd',\n",
    "    'Ga','Cs', 'unknown'\n",
    "]\n"
   ]
  },
  {
   "cell_type": "code",
   "execution_count": 194,
   "id": "36596a21-d53e-4921-a73e-cacaea11cf4d",
   "metadata": {},
   "outputs": [],
   "source": [
    "# For get_atom_feature\n",
    "def one_of_k_encoding(x, vocab:list) -> list:\n",
    "\tif x not in vocab:\n",
    "\t\tx = vocab[-1]\n",
    "\treturn list(map(lambda s: int(x==s), vocab))"
   ]
  },
  {
   "cell_type": "code",
   "execution_count": 195,
   "id": "fa8e532f-83d9-4211-8df0-80c33b6ee0c6",
   "metadata": {},
   "outputs": [],
   "source": [
    "# For get_molecular_graph\n",
    "def get_atom_feature(atom) -> list:\n",
    "    atom_feature =  one_of_k_encoding(atom.GetSymbol(), ELEM_LIST)\n",
    "    atom_feature += one_of_k_encoding(atom.GetDegree(), [1,2,3,4,5,6])\n",
    "    atom_feature += one_of_k_encoding(atom.GetExplicitValence(), [1,2,3,4,5,6])\n",
    "    atom_feature += one_of_k_encoding(atom.GetImplicitValence(), [0,1,2,3,4,5])\n",
    "    atom_feature += [atom.GetIsAromatic()]\n",
    "    \n",
    "    return atom_feature"
   ]
  },
  {
   "cell_type": "code",
   "execution_count": 196,
   "id": "9f4aa775-2ac8-4db7-a666-662a6745fab0",
   "metadata": {},
   "outputs": [],
   "source": [
    "# For get_molecular_graph\n",
    "def get_bond_feature(bond) -> list:\n",
    "\tbt = bond.GetBondType()\n",
    "\tbond_feature = [\n",
    "\t\tbt == Chem.rdchem.BondType.SINGLE,\n",
    "\t\tbt == Chem.rdchem.BondType.DOUBLE,\n",
    "\t\tbt == Chem.rdchem.BondType.TRIPLE,\n",
    "\t\tbt == Chem.rdchem.BondType.AROMATIC,\n",
    "\t\tbond.GetIsConjugated(),\n",
    "\t\tbond.IsInRing()\n",
    "\t]\n",
    "\treturn bond_feature"
   ]
  },
  {
   "cell_type": "code",
   "execution_count": 197,
   "id": "9b16bc20-e1e2-4a56-97b0-0cb4609fc071",
   "metadata": {},
   "outputs": [],
   "source": [
    "def get_molecular_graph(smi: str) -> dgl.graph:\n",
    "    \n",
    "    graph = dgl.DGLGraph()\n",
    "    mol = Chem.MolFromSmiles(smi)\n",
    "    \n",
    "    # graph : num_nodes\n",
    "    atoms_mol = mol.GetAtoms()\n",
    "    num_atoms = len(atoms_mol)\n",
    "    graph.add_nodes(num_atoms)\n",
    "\n",
    "    # graph : ndata_chemes\n",
    "    atom_feature_ls = [get_atom_feature(atom) for atom in atoms_mol]\n",
    "    atom_feature_ts = torch.tensor(atom_feature_ls, dtype=torch.float64)\n",
    "    graph.ndata['h'] = atom_feature_ts\n",
    "\n",
    "    # graph : num_edges + edata_schemes\n",
    "    bonds_mol = mol.GetBonds()\n",
    "    bond_feature_ls= []\n",
    "    for bond in bonds_mol:\n",
    "        bond_feature = get_bond_feature(bond)\n",
    "        src = bond.GetBeginAtom().GetIdx()\n",
    "        dst = bond.GetEndAtom().GetIdx()\n",
    "        graph.add_edges(src, dst)\n",
    "        bond_feature_ls.append(bond_feature)\n",
    "        graph.add_edges(dst, src)\n",
    "        bond_feature_ls.append(bond_feature)\n",
    "\n",
    "    bond_feature_ts = torch.tensor(bond_feature_ls, dtype=torch.float64)\n",
    "    graph.edata['e_ij'] = bond_feature_ts\n",
    "\n",
    "    return graph"
   ]
  },
  {
   "cell_type": "code",
   "execution_count": 198,
   "id": "34aa8217-5b48-4a60-b396-c7c6359f2938",
   "metadata": {},
   "outputs": [
    {
     "name": "stderr",
     "output_type": "stream",
     "text": [
      "/home/seungheun/anaconda3/envs/bsh/lib/python3.10/site-packages/dgl/heterograph.py:72: DGLWarning: Recommend creating graphs by `dgl.graph(data)` instead of `dgl.DGLGraph(data)`.\n",
      "  dgl_warning('Recommend creating graphs by `dgl.graph(data)`'\n"
     ]
    },
    {
     "data": {
      "text/plain": [
       "Graph(num_nodes=13, num_edges=24,\n",
       "      ndata_schemes={'h': Scheme(shape=(82,), dtype=torch.float64)}\n",
       "      edata_schemes={'e_ij': Scheme(shape=(6,), dtype=torch.float64)})"
      ]
     },
     "execution_count": 198,
     "metadata": {},
     "output_type": "execute_result"
    }
   ],
   "source": [
    "get_molecular_graph(c_p_df.smiles[0])"
   ]
  },
  {
   "cell_type": "markdown",
   "id": "ec129e77-ca43-422d-877c-198401180e83",
   "metadata": {},
   "source": [
    "---\n",
    "### 2) Protein to sequence"
   ]
  },
  {
   "cell_type": "code",
   "execution_count": 199,
   "id": "96d6b4ff-b82c-4066-9e78-31d4d1b6a25e",
   "metadata": {},
   "outputs": [],
   "source": [
    "aa_list = ['A', 'C', 'D', 'E', 'F', 'G', 'H', 'I', 'K', 'L', 'M', 'N', 'P', 'Q', 'R', 'S', 'T', 'V', 'W', 'Y']"
   ]
  },
  {
   "cell_type": "code",
   "execution_count": 200,
   "id": "f111738d-de3f-4722-8a8f-5312c5fd0977",
   "metadata": {},
   "outputs": [
    {
     "data": {
      "text/plain": [
       "array([ 0,  1,  2,  3,  4,  5,  2,  4,  6,  7,  8,  9,  9, 10, 10,  7,  2,\n",
       "        4, 11,  5, 12,  6, 12,  8, 13,  9, 11, 13,  1,  4,  2,  6,  2,  8,\n",
       "        8,  8,  1,  3,  6,  7, 11,  6,  0,  0,  3,  7,  7,  2, 14, 10,  9,\n",
       "       15, 12,  9,  3,  2, 16,  9,  3,  1,  9, 13, 15,  6,  0,  9, 13, 17,\n",
       "        7,  6,  9, 15,  0,  4,  0, 17,  8,  6, 10,  0,  5,  9, 12,  3,  8,\n",
       "        0,  7, 12, 17, 14, 13,  7, 14,  0,  7,  5,  7,  4, 14, 12, 15,  4,\n",
       "       18,  3,  6,  6,  5, 11, 16,  1,  9, 12,  8, 10,  9, 11,  9,  6,  4,\n",
       "        3,  9, 12,  8,  9,  0,  6,  5,  3,  5, 17,  7,  4,  2,  0,  6,  1,\n",
       "        4,  3, 14, 13,  9, 14, 11, 14, 11, 13, 11,  9,  6,  0, 10,  7, 11,\n",
       "        2,  6,  4, 11, 12, 17,  7, 12,  3,  2,  7, 11,  3,  0,  3,  9, 17,\n",
       "        7,  9,  4,  2,  9,  3, 12,  4,  3,  2,  0,  8, 18,  9, 10,  6, 10,\n",
       "        3, 14,  6,  3,  3,  0, 12,  9,  3,  5,  6,  1, 12, 17,  9, 11,  7,\n",
       "        6, 13,  9, 10, 12, 11,  0,  0,  7,  7, 10,  0,  2,  4,  0, 12, 11,\n",
       "        7,  2, 18,  7, 10,  9, 14, 12, 12, 13, 14, 14,  9, 18, 11,  8,  2,\n",
       "       19,  6, 11, 13,  0,  4, 11,  9, 11,  7,  5, 12,  7, 11, 12,  9,  9,\n",
       "       14, 13,  9, 17,  5,  2,  2,  2,  6,  3,  7,  7, 10,  6,  8, 14,  9,\n",
       "        8, 11, 12,  9,  1,  4, 14,  2,  0,  3,  0,  4, 18,  7,  5,  5,  0,\n",
       "       13], dtype=int32)"
      ]
     },
     "execution_count": 200,
     "metadata": {},
     "output_type": "execute_result"
    }
   ],
   "source": [
    "word_dict = defaultdict(lambda: len(word_dict))\n",
    "\n",
    "sequence = c_p_df.fasta[0]\n",
    "sequence = sequence.upper()\n",
    "word_ls = [i for i in sequence]\n",
    "output = [word_dict['X'] if word not in aa_list else word_dict[word] for word in word_ls]\n",
    "np.array(output,np.int32)"
   ]
  },
  {
   "cell_type": "code",
   "execution_count": 201,
   "id": "d349269c-9522-453a-bcb0-30f6de2f28d4",
   "metadata": {},
   "outputs": [],
   "source": [
    "def load_blosum62(blosum_path = '/hdd3/seungheun/dti_study/blosum62.txt') -> dict:\n",
    "    with open(blosum_path, 'r') as fr:\n",
    "        blosum_dict = {}\n",
    "        for line in fr:\n",
    "            if line.startswith(' '):\n",
    "                continue\n",
    "            parsed = line.strip('\\n').split()\n",
    "            blosum_dict[parsed[0]] = np.array(parsed[1:]).astype(float)\n",
    "    \n",
    "    return blosum_dict"
   ]
  },
  {
   "cell_type": "code",
   "execution_count": 202,
   "id": "0c0291b9-c777-4438-96aa-cedcf3765780",
   "metadata": {},
   "outputs": [],
   "source": [
    "blosum_dict = load_blosum62()"
   ]
  },
  {
   "cell_type": "code",
   "execution_count": null,
   "id": "f5c4a34e-8009-4cc0-9a37-6dbab26d3e18",
   "metadata": {},
   "outputs": [],
   "source": []
  },
  {
   "cell_type": "markdown",
   "id": "6b793f56-b1df-4a11-8769-c8b6c16ff17d",
   "metadata": {},
   "source": [
    "---\n",
    "### 3) collate_function"
   ]
  },
  {
   "cell_type": "code",
   "execution_count": 203,
   "id": "e0203300-f8bb-4338-8f0e-d4b903ae1b47",
   "metadata": {},
   "outputs": [],
   "source": [
    "def my_collate_fn(batch) -> (dgl.graph, torch.tensor):\n",
    "    graph_ls, ba_value_ls = [], []\n",
    "    \n",
    "    for item in batch:\n",
    "        smiles = item[0]\n",
    "        ba_value = item[1]\n",
    "        graph_ls.append(get_molecular_graph(smiles))\n",
    "        ba_value_ls.append(ba_value)\n",
    "    \n",
    "    graph_ls = dgl.batch(graph_ls)\n",
    "    ba_value_ls = torch.tensor(ba_value_ls, dtype=torch.float64)\n",
    "    \n",
    "    return graph_ls, ba_value_ls"
   ]
  },
  {
   "cell_type": "markdown",
   "id": "a0ad5d94-7cbf-4279-8381-ab3588cde355",
   "metadata": {},
   "source": [
    "---\n",
    "### 3. dataset class"
   ]
  },
  {
   "cell_type": "code",
   "execution_count": 204,
   "id": "20afd0e7-8f2f-434c-9b95-623c04d739b8",
   "metadata": {},
   "outputs": [],
   "source": [
    "class MyDataset(torch.utils.data.Dataset):\n",
    "    def __init__(self, splitted_set):\n",
    "        self._smi_ls = splitted_set['smiles']\n",
    "        self._prot_ls = splitted_set['fasta']\n",
    "        self._ba_value_ls = splitted_set['ba_value']\n",
    "    \n",
    "    def __len__(self):\n",
    "        return len(self.splitted_set)\n",
    "    \n",
    "    def __getitem__(self, idx):\n",
    "        c_graph = get_molecular_graph(self._smi_ls[idx])\n",
    "        y = self._ba_value_ls[idx]\n",
    "        return c_graph, y"
   ]
  },
  {
   "cell_type": "code",
   "execution_count": null,
   "id": "a423f2b8-ba5a-44ea-80ad-1e7c87e292e2",
   "metadata": {},
   "outputs": [],
   "source": []
  },
  {
   "cell_type": "code",
   "execution_count": null,
   "id": "063e68f0-b00d-4420-aad6-c2fdcf2e5802",
   "metadata": {},
   "outputs": [],
   "source": []
  },
  {
   "cell_type": "code",
   "execution_count": null,
   "id": "5cf52bff-bdc5-4c73-ae64-6a86453d9199",
   "metadata": {},
   "outputs": [],
   "source": []
  },
  {
   "cell_type": "code",
   "execution_count": null,
   "id": "60bff965-7ad7-4aa2-b8dd-3beb6130b7fe",
   "metadata": {},
   "outputs": [],
   "source": []
  },
  {
   "cell_type": "markdown",
   "id": "ce89aa10-cc8c-415d-a954-5a6283c18533",
   "metadata": {},
   "source": [
    "---\n",
    "### Anything\n",
    "---"
   ]
  },
  {
   "cell_type": "code",
   "execution_count": 205,
   "id": "cba25486-9e04-4404-b5ef-7e9edff334b3",
   "metadata": {},
   "outputs": [
    {
     "name": "stderr",
     "output_type": "stream",
     "text": [
      "/home/seungheun/anaconda3/envs/bsh/lib/python3.10/site-packages/dgl/heterograph.py:72: DGLWarning: Recommend creating graphs by `dgl.graph(data)` instead of `dgl.DGLGraph(data)`.\n",
      "  dgl_warning('Recommend creating graphs by `dgl.graph(data)`'\n"
     ]
    },
    {
     "data": {
      "text/plain": [
       "(Graph(num_nodes=36, num_edges=70,\n",
       "       ndata_schemes={'h': Scheme(shape=(82,), dtype=torch.float64)}\n",
       "       edata_schemes={'e_ij': Scheme(shape=(6,), dtype=torch.float64)}),\n",
       " tensor([0.4000, 0.4900, 1.6000], dtype=torch.float64))"
      ]
     },
     "execution_count": 205,
     "metadata": {},
     "output_type": "execute_result"
    }
   ],
   "source": [
    "def my_collate_fn_heun(batch)-> (dgl.graph, torch.tensor):\n",
    "    graph_ls, ba_value_ls = [], []\n",
    "\n",
    "    for _, row in batch.iterrows():\n",
    "        smiles = row[0]\n",
    "        ba_value = row[1]\n",
    "        graph_ls.append(get_molecular_graph(smiles))\n",
    "        ba_value_ls.append(ba_value)\n",
    "    graph_graph = dgl.batch(graph_ls)\n",
    "    ba_value_ts = torch.tensor(ba_value_ls, dtype=torch.float64)\n",
    "\n",
    "    return graph_graph, ba_value_ts\n",
    "\n",
    "batch = c_p_df[['smiles','ba_value']][0:3]\n",
    "my_collate_fn_heun(batch)"
   ]
  },
  {
   "cell_type": "code",
   "execution_count": null,
   "id": "97b43adc-fdb5-4d1d-a489-764e6a0eedec",
   "metadata": {},
   "outputs": [],
   "source": []
  }
 ],
 "metadata": {
  "kernelspec": {
   "display_name": "bsh (based rdkit)",
   "language": "python",
   "name": "bsh"
  },
  "language_info": {
   "codemirror_mode": {
    "name": "ipython",
    "version": 3
   },
   "file_extension": ".py",
   "mimetype": "text/x-python",
   "name": "python",
   "nbconvert_exporter": "python",
   "pygments_lexer": "ipython3",
   "version": "3.10.5"
  }
 },
 "nbformat": 4,
 "nbformat_minor": 5
}
