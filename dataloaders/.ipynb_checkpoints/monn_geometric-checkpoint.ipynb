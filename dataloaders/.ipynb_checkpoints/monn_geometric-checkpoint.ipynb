{
 "cells": [
  {
   "cell_type": "code",
   "execution_count": 922,
   "id": "30bf3701-6049-4355-b4c1-0daa0668fdae",
   "metadata": {},
   "outputs": [],
   "source": [
    "from tqdm import tqdm\n",
    "from collections import defaultdict\n",
    "from itertools import product\n",
    "\n",
    "import numpy as np\n",
    "import pandas as pd\n",
    "\n",
    "import torch\n",
    "import torch.nn.functional as F \n",
    "from torch.nn import Linear, Parameter, GRUCell, Conv1d\n",
    "from torch_geometric.data import Data\n",
    "from torch_geometric.nn import MessagePassing, GCNConv\n",
    "from torch_geometric.utils import add_self_loops, degree, smiles\n",
    "\n",
    "from rdkit import Chem"
   ]
  },
  {
   "cell_type": "code",
   "execution_count": 3,
   "id": "729b34e1-5985-4942-8538-5dd7030436a9",
   "metadata": {},
   "outputs": [],
   "source": [
    "dataset_dir_path = \"/hdd3/dti_databank/preprocessed/dataset_220622\"\n",
    "complex_metadata = \"complex_metadata_pdb_2020_general.csv\"\n",
    "ligand_metadata = \"ligand_metadata_pdb_2020_general.csv\"\n",
    "protein_metadata  = \"protein_metadata_pdb_2020_general.csv\""
   ]
  },
  {
   "cell_type": "markdown",
   "id": "ec5edf28-64df-4242-b1a6-084b22db08d6",
   "metadata": {},
   "source": [
    "---\n",
    "### Raw data load"
   ]
  },
  {
   "cell_type": "code",
   "execution_count": 4,
   "id": "f59ea08d-c3a0-4755-a3f1-654cf9844832",
   "metadata": {},
   "outputs": [],
   "source": [
    "ba_measure = 'KIKD' # IC50, nan\n",
    "\n",
    "comp_meta_df = pd.read_csv(f'{dataset_dir_path}/{complex_metadata}')\n",
    "comp_meta_df = comp_meta_df[comp_meta_df.ba_measure==ba_measure]\n",
    "lig_meta_df = pd.read_csv(f'{dataset_dir_path}/{ligand_metadata}')\n",
    "prot_meta_df = pd.read_csv(f'{dataset_dir_path}/{protein_metadata}')"
   ]
  },
  {
   "cell_type": "markdown",
   "id": "a5b1f097-aefb-4e28-bc18-91372858291e",
   "metadata": {},
   "source": [
    "---\n",
    "### Make dataset for affinity"
   ]
  },
  {
   "cell_type": "code",
   "execution_count": 6,
   "id": "7416e697-c7cb-4125-8c4c-be3bd2e4fbc1",
   "metadata": {},
   "outputs": [
    {
     "data": {
      "text/html": [
       "<div>\n",
       "<style scoped>\n",
       "    .dataframe tbody tr th:only-of-type {\n",
       "        vertical-align: middle;\n",
       "    }\n",
       "\n",
       "    .dataframe tbody tr th {\n",
       "        vertical-align: top;\n",
       "    }\n",
       "\n",
       "    .dataframe thead th {\n",
       "        text-align: right;\n",
       "    }\n",
       "</style>\n",
       "<table border=\"1\" class=\"dataframe\">\n",
       "  <thead>\n",
       "    <tr style=\"text-align: right;\">\n",
       "      <th></th>\n",
       "      <th>ba_value</th>\n",
       "      <th>smiles</th>\n",
       "      <th>fasta</th>\n",
       "    </tr>\n",
       "  </thead>\n",
       "  <tbody>\n",
       "    <tr>\n",
       "      <th>9131</th>\n",
       "      <td>12.00</td>\n",
       "      <td>CC1CN(c2ccncc2NC(=O)c2ccc(F)c(-c3c(F)cccc3F)n2...</td>\n",
       "      <td>EPLESQYQVGPLLGSGGFGSVYSGIRVSDNLPVAIKHVEKDRISDW...</td>\n",
       "    </tr>\n",
       "    <tr>\n",
       "      <th>9132</th>\n",
       "      <td>12.39</td>\n",
       "      <td>Nc1ccc2c(c1)c(-c1ccccc1)[n+](CCCCCCc1cnnn1CCNc...</td>\n",
       "      <td>EGREDPQLLVRVRGGQLRGIRLKAPGGPVSAFLGIPFAEPPVGSRR...</td>\n",
       "    </tr>\n",
       "    <tr>\n",
       "      <th>9133</th>\n",
       "      <td>15.00</td>\n",
       "      <td>Nc1ccc2c(c1)c(-c1ccccc1)[n+](CCCCCCc1cnnn1CCNc...</td>\n",
       "      <td>EGREDPQLLVRVRGGQLRGIRLKAPGGPVSAFLGIPFAEPPVGSRR...</td>\n",
       "    </tr>\n",
       "    <tr>\n",
       "      <th>9134</th>\n",
       "      <td>12.72</td>\n",
       "      <td>O=C(O)C(O)(COP(=O)(O)O)C(O)C(O)COP(=O)(O)O</td>\n",
       "      <td>ASVGFKAGVKDYKLTYYTPEYETLDTDILAAFRVSPQPGVPPEEAG...</td>\n",
       "    </tr>\n",
       "    <tr>\n",
       "      <th>9135</th>\n",
       "      <td>13.82</td>\n",
       "      <td>C[N+](C)(C)c1cccc(C(O)(O)C(F)(F)F)c1</td>\n",
       "      <td>SELLVNTKSGKVMGTRVPVLSSHISAFLGIPFAEPPVGNMRFRRPE...</td>\n",
       "    </tr>\n",
       "  </tbody>\n",
       "</table>\n",
       "</div>"
      ],
      "text/plain": [
       "      ba_value                                             smiles  \\\n",
       "9131     12.00  CC1CN(c2ccncc2NC(=O)c2ccc(F)c(-c3c(F)cccc3F)n2...   \n",
       "9132     12.39  Nc1ccc2c(c1)c(-c1ccccc1)[n+](CCCCCCc1cnnn1CCNc...   \n",
       "9133     15.00  Nc1ccc2c(c1)c(-c1ccccc1)[n+](CCCCCCc1cnnn1CCNc...   \n",
       "9134     12.72         O=C(O)C(O)(COP(=O)(O)O)C(O)C(O)COP(=O)(O)O   \n",
       "9135     13.82               C[N+](C)(C)c1cccc(C(O)(O)C(F)(F)F)c1   \n",
       "\n",
       "                                                  fasta  \n",
       "9131  EPLESQYQVGPLLGSGGFGSVYSGIRVSDNLPVAIKHVEKDRISDW...  \n",
       "9132  EGREDPQLLVRVRGGQLRGIRLKAPGGPVSAFLGIPFAEPPVGSRR...  \n",
       "9133  EGREDPQLLVRVRGGQLRGIRLKAPGGPVSAFLGIPFAEPPVGSRR...  \n",
       "9134  ASVGFKAGVKDYKLTYYTPEYETLDTDILAAFRVSPQPGVPPEEAG...  \n",
       "9135  SELLVNTKSGKVMGTRVPVLSSHISAFLGIPFAEPPVGNMRFRRPE...  "
      ]
     },
     "execution_count": 6,
     "metadata": {},
     "output_type": "execute_result"
    }
   ],
   "source": [
    "comp_lig_df = pd.merge(left=comp_meta_df, right=lig_meta_df, how='inner', on='ligand_id')\n",
    "comp_lig_prot_df = pd.merge(left=comp_lig_df, right=prot_meta_df, how='inner', on='protein_id')\n",
    "c_p_df = comp_lig_prot_df[['ba_value','smiles','fasta']]\n",
    "c_p_df.tail()"
   ]
  },
  {
   "cell_type": "markdown",
   "id": "1aa6c24d-0f29-4d4b-8f98-a621b6813487",
   "metadata": {},
   "source": [
    "---\n",
    "# The Graph Convolution Module\n",
    "---"
   ]
  },
  {
   "cell_type": "markdown",
   "id": "fbceebbf-a101-4c30-ad54-df2ebda5f7ea",
   "metadata": {},
   "source": [
    "### 1) Smiles to graph"
   ]
  },
  {
   "cell_type": "code",
   "execution_count": 7,
   "id": "cf823652-c840-435a-8908-bbcf97972584",
   "metadata": {},
   "outputs": [],
   "source": [
    "# node len : 63개\n",
    "# Degree : [0,1,2,3,4,5] - 6개\n",
    "# ExplicitValence : [1,2,3,4,5,6] - 6개\n",
    "# ImplicitValence : [0,1,2,3,4,5] - 6개\n",
    "# Aromatic : [0 or 1] - 1개\n",
    "# 총 length : 82개 ()\n",
    "\n",
    "ELEM_LIST = [\n",
    "    'C', 'N', 'O', 'S', 'F', \n",
    "    'Si', 'P', 'Cl', 'Br', 'Mg', \n",
    "    'Na', 'Ca', 'Fe', 'As', 'Al', \n",
    "    'I', 'B', 'V', 'K', 'Tl', \n",
    "    'Yb', 'Sb', 'Sn', 'Ag', 'Pd', \n",
    "    'Co', 'Se', 'Ti', 'Zn', 'H', \n",
    "    'Li', 'Ge', 'Cu', 'Au', 'Ni', \n",
    "    'Cd', 'In', 'Mn', 'Zr', 'Cr', \n",
    "    'Pt', 'Hg', 'Pb', 'W', 'Ru', \n",
    "    'Nb', 'Re', 'Te', 'Rh', 'Tc', \n",
    "    'Ba', 'Bi', 'Hf', 'Mo', 'U', \n",
    "    'Sm', 'Os', 'Ir', 'Ce', 'Gd',\n",
    "    'Ga','Cs', 'unknown'\n",
    "]"
   ]
  },
  {
   "cell_type": "code",
   "execution_count": 8,
   "id": "5c9ad256-4c95-4ac2-ba28-1a57e270a9e7",
   "metadata": {},
   "outputs": [],
   "source": [
    "# For get_atom_feature\n",
    "def one_of_k_encoding(x, vocab:list) -> list:\n",
    "\tif x not in vocab:\n",
    "\t\tx = vocab[-1]\n",
    "\treturn list(map(lambda s: int(x==s), vocab))"
   ]
  },
  {
   "cell_type": "code",
   "execution_count": 432,
   "id": "696799d2-1b77-408a-a92b-f5e202a0bc31",
   "metadata": {},
   "outputs": [],
   "source": [
    "# For get_molecular_graph\n",
    "def get_atom_feature(atom) -> list:\n",
    "    atom_feature =  one_of_k_encoding(atom.GetSymbol(), ELEM_LIST)\n",
    "    atom_feature += one_of_k_encoding(atom.GetDegree(), [1,2,3,4,5,6])\n",
    "    atom_feature += one_of_k_encoding(atom.GetExplicitValence(), [1,2,3,4,5,6])\n",
    "    atom_feature += one_of_k_encoding(atom.GetImplicitValence(), [0,1,2,3,4,5])\n",
    "    atom_feature += [int(atom.GetIsAromatic())]\n",
    "    \n",
    "    return [atom_feature]"
   ]
  },
  {
   "cell_type": "code",
   "execution_count": 10,
   "id": "f90803bc-eef9-4f10-b8e6-b5234e1385ff",
   "metadata": {},
   "outputs": [],
   "source": [
    "def get_bond_idx(bond) -> list:\n",
    "    begin = bond.GetBeginAtomIdx()\n",
    "    end = bond.GetEndAtomIdx()\n",
    "    bond_idx = [[begin, end],[end, begin]]\n",
    "    \n",
    "    return bond_idx"
   ]
  },
  {
   "cell_type": "code",
   "execution_count": 455,
   "id": "202b507d-3ab8-4b44-a660-872fabfcbe8f",
   "metadata": {},
   "outputs": [],
   "source": [
    "# For get_molecular_graph\n",
    "def get_bond_feature(bond) -> list:\n",
    "    bt = bond.GetBondType()\n",
    "    bond_feature = [\n",
    "        bt == Chem.rdchem.BondType.SINGLE,\n",
    "        bt == Chem.rdchem.BondType.DOUBLE,\n",
    "        bt == Chem.rdchem.BondType.TRIPLE,\n",
    "        bt == Chem.rdchem.BondType.AROMATIC,\n",
    "        bond.GetIsConjugated(),\n",
    "        bond.IsInRing()\n",
    "    ]\n",
    "    return [bond_feature,bond_feature]\n",
    "    "
   ]
  },
  {
   "cell_type": "code",
   "execution_count": 456,
   "id": "fe9f3825-030d-486b-86ad-0153692a74bc",
   "metadata": {},
   "outputs": [],
   "source": [
    "def get_molecular_graph(smi: str) -> Data:\n",
    "    \n",
    "    mol = Chem.MolFromSmiles(smi)\n",
    "\n",
    "    # graph : get x\n",
    "    atom_feature_ls = [get_atom_feature(atom) for atom in mol.GetAtoms()]\n",
    "    atom_feature_ts = torch.tensor(atom_feature_ls, dtype=torch.float32).view(-1,82)\n",
    "\n",
    "    # graph : get edge_index, edge_attr\n",
    "    bond_idx_ls, bond_feature_ls = [], []\n",
    "    for bond in mol.GetBonds():\n",
    "        bond_idx_ls += get_bond_idx(bond)\n",
    "        bond_feature_ls += get_bond_feature(bond)\n",
    "    bond_idx_ts = torch.tensor(bond_idx_ls, dtype=torch.long).t().view(2,-1)\n",
    "    bond_feature_ts = torch.tensor(bond_feature_ls, dtype=torch.float32).view(-1,6)\n",
    "    \n",
    "    return Data(x=atom_feature_ts, edge_index=bond_idx_ts, edge_attr=bond_feature_ts, smiles=smi)"
   ]
  },
  {
   "cell_type": "code",
   "execution_count": 457,
   "id": "192ddf92-cdad-46f8-aec6-ae1c77784cd4",
   "metadata": {},
   "outputs": [
    {
     "data": {
      "text/plain": [
       "Data(x=[13, 82], edge_index=[2, 24], edge_attr=[24, 6], smiles='CC(=O)NC(CCC(=O)O)C(=O)O')"
      ]
     },
     "execution_count": 457,
     "metadata": {},
     "output_type": "execute_result"
    }
   ],
   "source": [
    "graph = get_molecular_graph(c_p_df.smiles[0])\n",
    "graph"
   ]
  },
  {
   "cell_type": "markdown",
   "id": "0678e7ac-b0a7-4e09-b831-fc2212bef4f6",
   "metadata": {},
   "source": [
    "### 2)Graph Convolution Module"
   ]
  },
  {
   "cell_type": "code",
   "execution_count": 840,
   "id": "52dff85d-9ecd-4ea8-8b69-f1f6ba59e036",
   "metadata": {},
   "outputs": [
    {
     "name": "stdout",
     "output_type": "stream",
     "text": [
      "x\n",
      "torch.Size([13, 82])\n",
      "\n",
      "v_i_0\n",
      "torch.Size([13, 128])\n",
      "\n",
      "t_i_1\n",
      "torch.Size([6, 13])\n",
      "torch.Size([13, 134])\n",
      "torch.Size([13, 128])\n",
      "\n",
      "u_i_1\n",
      "torch.Size([13, 128])\n",
      "\n",
      "s__0\n",
      "torch.Size([1, 128])\n",
      "\n",
      "u_s_0\n",
      "torch.Size([1, 128])\n",
      "\n"
     ]
    },
    {
     "name": "stderr",
     "output_type": "stream",
     "text": [
      "/home/seungheun/anaconda3/envs/bsh/lib/python3.10/site-packages/torch/nn/functional.py:1933: UserWarning: nn.functional.tanh is deprecated. Use torch.tanh instead.\n",
      "  warnings.warn(\"nn.functional.tanh is deprecated. Use torch.tanh instead.\")\n"
     ]
    }
   ],
   "source": [
    "# Start\n",
    "print('x')\n",
    "print(graph.x.shape)\n",
    "print()\n",
    "\n",
    "# Equation 1\n",
    "print('v_i_0')\n",
    "w_init = Linear(82,128)\n",
    "v_i_0 = F.leaky_relu(w_init(graph.x))\n",
    "print(v_i_0.shape)\n",
    "print()\n",
    "\n",
    "# Equation 2\n",
    "print('t_i_1')\n",
    "w_gather = Linear(134,128)\n",
    "row,col = graph.edge_index[0], graph.edge_index[1]\n",
    "sca = scatter_add(src=graph.edge_attr.T, index=col, dim_size=graph.num_nodes)\n",
    "print(sca.shape)\n",
    "v_i_0_sca = torch.cat((v_i_0, sca.T),1)\n",
    "print(v_i_0_sca.shape)\n",
    "t_i_1 = F.leaky_relu(w_gather(v_i_0_sca))\n",
    "print(t_i_1.shape)\n",
    "print()\n",
    "\n",
    "# Equation 3\n",
    "print('u_i_1')\n",
    "w_update = Linear(256,128)\n",
    "v_i_0_t_i_1 = torch.cat((v_i_0, t_i_1), axis=1)\n",
    "u_i_0 = F.leaky_relu(w_update(v_i_0_t_i_1))\n",
    "print(u_i_0.shape)\n",
    "print()\n",
    "\n",
    "# Equation 4\n",
    "print('s__0')\n",
    "s__0 = torch.sum(v_i_0, axis=0, keepdim=True)\n",
    "print(s__0.shape)\n",
    "print()\n",
    "\n",
    "# Equation 5\n",
    "print('u_s_0')\n",
    "w_super = Linear(128,128)\n",
    "u_s_0 = F.tanh(w_super(s__0))\n",
    "print(u_s_0.shape)\n",
    "print()"
   ]
  },
  {
   "cell_type": "code",
   "execution_count": 795,
   "id": "526e587f-ac1f-46ac-8c1c-363a36c00a62",
   "metadata": {
    "tags": []
   },
   "outputs": [
    {
     "name": "stdout",
     "output_type": "stream",
     "text": [
      "u_s_to_v_0\n",
      "torch.Size([1, 128])\n",
      "\n",
      "b_v_i_1_0 : k = 1\n",
      "torch.Size([13, 128])\n",
      "\n",
      "a_v_i_1_0 : K = 1\n",
      "torch.Size([13, 1])\n",
      "\n",
      "b_v_i_1_0 : k = 2\n",
      "torch.Size([13, 128])\n",
      "\n",
      "a_v_i_1_0 : K = 2\n",
      "torch.Size([13, 1])\n",
      "\n",
      "u_v_to_s_0\n",
      "torch.Size([1, 128])\n"
     ]
    },
    {
     "name": "stderr",
     "output_type": "stream",
     "text": [
      "/tmp/ipykernel_12758/3009940630.py:28: UserWarning: Implicit dimension choice for softmax has been deprecated. Change the call to include dim=X as an argument.\n",
      "  a_v_i_1_0 = F.softmax(w_att_0_0(b_v_i_1_0))\n"
     ]
    }
   ],
   "source": [
    "############ Step 1 ############\n",
    "\n",
    "# Equation 6\n",
    "print('u_s_to_v_0')\n",
    "u_s_to_v_0 = F.tanh(w_s_to_v(s__0))\n",
    "print(u_s_to_v_0.shape)\n",
    "print()\n",
    "\n",
    "# Equation 7\n",
    "k = 2\n",
    "w_s_to_v = Linear(128,128)\n",
    "w_v_to_s = Linear(128*k,128)\n",
    "a_v_ls = []\n",
    "\n",
    "for idx in range(1,k+1):\n",
    "    w_vatt_0_0 = Linear(128,128)\n",
    "    w_satt_0_0 = Linear(128,128)\n",
    "    w_att_0_0 = Linear(128,1)\n",
    "    \n",
    "    # Equation 9\n",
    "    print(f'b_v_i_1_0 : k = {idx}')\n",
    "    b_v_i_1_0 = F.tanh(w_vatt_0_0(v_i_0)) * F.tanh(w_satt_0_0(s__0))\n",
    "    print(b_v_i_1_0.shape)\n",
    "    print()\n",
    "\n",
    "    # Equation 8\n",
    "    print(f'a_v_i_1_0 : K = {idx}')\n",
    "    a_v_i_1_0 = F.softmax(w_att_0_0(b_v_i_1_0))\n",
    "    print(a_v_i_1_0.shape)\n",
    "    print()\n",
    "\n",
    "    a_v_j_0 = torch.sum(a_v_i_1_0*v_i_0, axis=0, keepdim=True)\n",
    "    a_v_ls += a_v_j_0\n",
    "\n",
    "a_v_j_k_0 = torch.cat(a_v_ls,dim=0).view(1,-1)\n",
    "\n",
    "print('u_v_to_s_0')\n",
    "u_v_to_s_0 = F.tanh(w_v_to_s(a_v_j_k_0))\n",
    "print(u_v_to_s_0.shape)"
   ]
  },
  {
   "cell_type": "code",
   "execution_count": 818,
   "id": "a4502ff4-972b-4aa9-b629-3fdf3d4c6389",
   "metadata": {},
   "outputs": [
    {
     "name": "stdout",
     "output_type": "stream",
     "text": [
      "g_v_to_s_0\n",
      "torch.Size([1, 128])\n",
      "\n",
      "t_v_to_s_0\n",
      "torch.Size([1, 128])\n",
      "\n",
      "g_s_to_i_0\n",
      "torch.Size([13, 128])\n",
      "\n",
      "t_s_to_i_0\n",
      "torch.Size([13, 128])\n"
     ]
    }
   ],
   "source": [
    "############ Step 2 ############\n",
    "\n",
    "# Equation 10\n",
    "print('g_v_to_s_0')\n",
    "w_gate11 = Linear(128,128)\n",
    "w_gate12 = Linear(128,128)\n",
    "g_v_to_s_0 = F.sigmoid(w_gate11(u_v_to_s_0) + w_gate12(u_s_0))\n",
    "print(g_v_to_s_0.shape)\n",
    "print()\n",
    "\n",
    "# Equation 11\n",
    "print('t_v_to_s_0')\n",
    "t_v_to_s_0 = (1-g_v_to_s_0)*u_v_to_s_0 + g_v_to_s_0*u_s_0\n",
    "print(t_v_to_s_0.shape)\n",
    "print()\n",
    "\n",
    "# Equation 12\n",
    "print('g_s_to_i_0')\n",
    "w_gate21 = Linear(128,128)\n",
    "w_gate22 = Linear(128,128)\n",
    "g_s_to_i_0 = F.sigmoid(w_gate21(u_i_0) + w_gate22(u_s_to_v_0))\n",
    "print(g_s_to_i_0.shape)\n",
    "print()\n",
    "\n",
    "# Equation 13\n",
    "print('t_s_to_i_0')\n",
    "t_s_to_i_0 = (1-g_s_to_i_0)*u_i_0 + g_s_to_i_0*u_s_to_v_0\n",
    "print(t_s_to_i_0.shape)"
   ]
  },
  {
   "cell_type": "code",
   "execution_count": 839,
   "id": "c6c62788-b6d8-4946-88e6-2907805cc658",
   "metadata": {},
   "outputs": [
    {
     "name": "stdout",
     "output_type": "stream",
     "text": [
      "v_i_1\n",
      "torch.Size([13, 128])\n",
      "\n",
      "s__1\n",
      "torch.Size([1, 128])\n"
     ]
    }
   ],
   "source": [
    "############ Step 3 ############\n",
    "\n",
    "# Equation 14\n",
    "print('v_i_1')\n",
    "gru_v = GRUCell(128,128)\n",
    "v_i_1 = gru_v(v_i_0, t_s_to_i_0)\n",
    "print(v_i_1.shape)\n",
    "print()\n",
    "\n",
    "# Equation 15\n",
    "print('s__1')\n",
    "gru_s = GRUCell(128,128)\n",
    "s__1 = gru_s(s__0,t_v_to_s_0)\n",
    "print(s__1.shape)"
   ]
  },
  {
   "cell_type": "markdown",
   "id": "0464f469-c0f3-4bbf-89bc-7324cb40a921",
   "metadata": {},
   "source": [
    "---\n",
    "# The CNN Module\n",
    "---"
   ]
  },
  {
   "cell_type": "markdown",
   "id": "bb0db92c-9ed1-4549-8484-91fcc7aa42b2",
   "metadata": {},
   "source": [
    "### 1) Fasta to sequence"
   ]
  },
  {
   "cell_type": "code",
   "execution_count": 1082,
   "id": "d349269c-9522-453a-bcb0-30f6de2f28d4",
   "metadata": {},
   "outputs": [],
   "source": [
    "def load_blosum62(blosum_path = '/hdd3/seungheun/dti_study/blosum62.txt') -> dict:\n",
    "    blosum_dict = {}\n",
    "    with open(blosum_path, 'r') as fr:\n",
    "        for line in fr:\n",
    "            if line.startswith(' '):\n",
    "                continue\n",
    "            parsed = line.strip('\\n').split()\n",
    "            blosum_dict[parsed[0]] = np.array(parsed[1:]).astype(np.float32)\n",
    "    return blosum_dict"
   ]
  },
  {
   "cell_type": "code",
   "execution_count": 1087,
   "id": "7ba6b568-48ea-4395-90d5-8c0048669f18",
   "metadata": {},
   "outputs": [
    {
     "data": {
      "text/plain": [
       "tensor([[ 0., -2.,  1.,  ..., -1.,  0., -2.],\n",
       "        [-3., -2., -1.,  ..., -3., -3., -2.],\n",
       "        [-1., -3.,  0.,  ..., -2., -1., -3.],\n",
       "        ...,\n",
       "        [-3., -1., -2.,  ..., -3., -3., -1.],\n",
       "        [-2.,  1., -3.,  ..., -3., -2.,  2.],\n",
       "        [-3.,  3., -2.,  ..., -2., -3.,  7.]])"
      ]
     },
     "execution_count": 1087,
     "metadata": {},
     "output_type": "execute_result"
    }
   ],
   "source": [
    "blosum_dict = load_blosum62()\n",
    "fasta = c_p_df.fasta[0]\n",
    "init_feature = torch.tensor([blosum_dict[r] for r in fasta]).T\n",
    "init_feature"
   ]
  },
  {
   "cell_type": "markdown",
   "id": "88cb6f03-0253-40bc-a4ab-46173a6a906a",
   "metadata": {},
   "source": [
    "### 2) 1-D Covolution layers"
   ]
  },
  {
   "cell_type": "code",
   "execution_count": 1116,
   "id": "ab8f8294-b3ea-45bc-b155-274ea50da938",
   "metadata": {
    "tags": []
   },
   "outputs": [
    {
     "data": {
      "text/plain": [
       "torch.Size([290, 128])"
      ]
     },
     "execution_count": 1116,
     "metadata": {},
     "output_type": "execute_result"
    }
   ],
   "source": [
    "kernel_size = 7 # or 5\n",
    "padding = int((kernel_size-1)/2)\n",
    "conv1d = Conv1d(20,128,kernel_size=kernel_size,padding=padding,dtype=torch.float32)\n",
    "r_j_1 = F.leaky_relu(conv1d(init_feature)).T\n",
    "r_j_1.shape"
   ]
  },
  {
   "cell_type": "markdown",
   "id": "63c5b939-baac-4674-96c1-b232c0410bb0",
   "metadata": {},
   "source": [
    "---\n",
    "# The Pairwise Interaction Prediction Module\n",
    "---"
   ]
  },
  {
   "cell_type": "code",
   "execution_count": 1117,
   "id": "3790a24f-be3d-4612-ab29-e5bc5e910dc9",
   "metadata": {},
   "outputs": [
    {
     "name": "stdout",
     "output_type": "stream",
     "text": [
      "p_i_j\n",
      "torch.Size([13, 290])\n"
     ]
    }
   ],
   "source": [
    "# (Equation 16)\n",
    "print(\"p_i_j\")\n",
    "w_atom = Linear(128,128)\n",
    "w_residue = Linear(128,128)\n",
    "p_i_j = F.sigmoid(torch.mm(F.leaky_relu(w_atom(v_i_1)), F.leaky_relu(w_residue(r_j_1)).T))\n",
    "print(p_i_j.shape)"
   ]
  },
  {
   "cell_type": "markdown",
   "id": "1e5d617e-6331-4338-b8fd-cae649de67d1",
   "metadata": {},
   "source": [
    "---\n",
    "# The Affinity Prediction Module\n",
    "---"
   ]
  },
  {
   "cell_type": "code",
   "execution_count": 1133,
   "id": "70b9dda2-f0fa-47db-bce6-8592f533d37b",
   "metadata": {},
   "outputs": [
    {
     "name": "stdout",
     "output_type": "stream",
     "text": [
      "h_v_i\n",
      "torch.Size([13, 128])\n",
      "\n",
      "h_s\n",
      "torch.Size([1, 128])\n",
      "\n",
      "h_r_j\n",
      "torch.Size([290, 128])\n",
      "\n",
      "h_c_0\n",
      "torch.Size([1, 128])\n",
      "\n",
      "h_p_0\n",
      "torch.Size([1, 128])\n",
      "\n",
      "m_0\n",
      "torch.Size([1, 128])\n",
      "\n"
     ]
    }
   ],
   "source": [
    "h_2 = 128 # or 64\n",
    "\n",
    "# (Equation 17)\n",
    "print('h_v_i')\n",
    "w_v = Linear(128, h_2)\n",
    "h_v_i = F.leaky_relu(w_v(v_i_1))\n",
    "print(h_v_i.shape)\n",
    "print()\n",
    "\n",
    "# (Equation 18)\n",
    "print('h_s')\n",
    "w_r = Linear(128, h_2)\n",
    "h_s = F.leaky_relu(w_r(s__1))\n",
    "print(h_s.shape)\n",
    "print()\n",
    "\n",
    "# (Equation 19)\n",
    "print('h_r_j')\n",
    "w_s = Linear(128, h_2)\n",
    "h_r_j = F.leaky_relu(w_s(r_j_1))\n",
    "print(h_r_j.shape)\n",
    "print()\n",
    "\n",
    "\n",
    "\n",
    "# (Equation 20)\n",
    "print('h_c_0')\n",
    "h_c_0 = torch.sum(h_v_i,axis=0,keepdim=True)/h_v_i.size(0)\n",
    "print(h_c_0.shape)\n",
    "print()\n",
    "\n",
    "# (Equation 21)\n",
    "print('h_p_0')\n",
    "h_p_0 = torch.sum(h_r_j,axis=0,keepdim=True)/h_r_j.size(0)\n",
    "print(h_p_0.shape)\n",
    "print()\n",
    "\n",
    "# (Equation 22)\n",
    "print('m_0')\n",
    "m_0 = h_c_0 * h_p_0\n",
    "print(m_0.shape)\n",
    "print()\n",
    "\n",
    "\n",
    "\n",
    "#"
   ]
  },
  {
   "cell_type": "code",
   "execution_count": null,
   "id": "3748b49b-9b9c-4b0c-a8a4-716f846280ca",
   "metadata": {},
   "outputs": [],
   "source": []
  }
 ],
 "metadata": {
  "kernelspec": {
   "display_name": "bsh (based rdkit)",
   "language": "python",
   "name": "bsh"
  },
  "language_info": {
   "codemirror_mode": {
    "name": "ipython",
    "version": 3
   },
   "file_extension": ".py",
   "mimetype": "text/x-python",
   "name": "python",
   "nbconvert_exporter": "python",
   "pygments_lexer": "ipython3",
   "version": "3.10.5"
  }
 },
 "nbformat": 4,
 "nbformat_minor": 5
}
